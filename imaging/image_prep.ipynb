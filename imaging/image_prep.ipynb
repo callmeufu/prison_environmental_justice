{
 "cells": [
  {
   "cell_type": "markdown",
   "metadata": {},
   "source": [
    "### Setup"
   ]
  },
  {
   "cell_type": "code",
   "execution_count": null,
   "metadata": {},
   "outputs": [],
   "source": [
    "import geopandas as gpd\n",
    "from shapely.geometry import box\n",
    "import pandas as pd\n",
    "import numpy as np\n",
    "import altair as alt\n",
    "import json\n",
    "import os"
   ]
  },
  {
   "cell_type": "code",
   "execution_count": null,
   "metadata": {},
   "outputs": [],
   "source": [
    "# import prison boundaries as shapefile from Department of Homeland Security\n",
    "prisonsRaw = gpd.read_file('https://opendata.arcgis.com/api/v3/datasets/2d6109d4127d458eaf0958e4c5296b67_0/downloads/data?format=geojson&spatialRefId=4326&where=1%3D1')\n",
    "\n",
    "# Load the clean list of prisons from a CSV file, ensuring 'FACILITYID' is read as a string\n",
    "prisonsClean = pd.read_csv('../prison_datasets/state_fed_prisons.csv', dtype={'FACILITYID': str})\n",
    "\n",
    "# Ensure 'FACILITYID' in the raw prisons data is treated as a string\n",
    "prisonsRaw['FACILITYID'] = prisonsRaw['FACILITYID'].astype(str)\n",
    "\n",
    "# Filter the raw prisons data to include only those records with 'FACILITYID' present in the clean list\n",
    "filtered_prisons = prisonsRaw[prisonsRaw['FACILITYID'].isin(prisonsClean['FACILITYID'])]\n",
    "\n",
    "# Create a deep copy of the filtered prisons data for further processing\n",
    "prisonsFinal = filtered_prisons.copy(deep=True)"
   ]
  },
  {
   "cell_type": "markdown",
   "metadata": {},
   "source": [
    "## Buffer Creation"
   ]
  },
  {
   "cell_type": "code",
   "execution_count": null,
   "metadata": {},
   "outputs": [],
   "source": [
    "prisonsFinal.head()"
   ]
  },
  {
   "cell_type": "code",
   "execution_count": null,
   "metadata": {},
   "outputs": [],
   "source": [
    "# Define a function to create a buffered square around the geometry\n",
    "def create_buffered_square(geometry, buffer_distance=100):\n",
    "    # Get the centroid of the geometry to determine the UTM zone\n",
    "    centroid = geometry.centroid\n",
    "    utm_zone = int((centroid.x + 180) // 6) + 1\n",
    "    utm_crs = f'EPSG:{32600 + utm_zone}'\n",
    "\n",
    "    # Project geometry to UTM by converting it to a GeoSeries temporarily\n",
    "    geometry_utm = gpd.GeoSeries([geometry], crs='EPSG:4326').to_crs(utm_crs)\n",
    "\n",
    "    # Get the bounds in the projected CRS\n",
    "    minx, miny, maxx, maxy = geometry_utm.total_bounds\n",
    "\n",
    "    # Create bounding box with set buffer distance\n",
    "    buffered_minx = minx - buffer_distance\n",
    "    buffered_miny = miny - buffer_distance\n",
    "    buffered_maxx = maxx + buffer_distance\n",
    "    buffered_maxy = maxy + buffer_distance\n",
    "\n",
    "    # Create a square that contains the buffered bounding box\n",
    "    square = box(buffered_minx, buffered_miny, buffered_maxx, buffered_maxy)\n",
    "\n",
    "    # Project the square back to the original CRS\n",
    "    square_original_crs = gpd.GeoSeries([square], crs=utm_crs).to_crs('EPSG:4326')\n",
    "\n",
    "    return square_original_crs.iloc[0]\n",
    "\n",
    "# Create square for each prison\n",
    "prisonsFinal['buffered_square'] = prisonsFinal['geometry'].apply(create_buffered_square)\n"
   ]
  },
  {
   "cell_type": "code",
   "execution_count": null,
   "metadata": {},
   "outputs": [],
   "source": [
    "prisonsFinal.columns"
   ]
  },
  {
   "cell_type": "code",
   "execution_count": null,
   "metadata": {},
   "outputs": [],
   "source": [
    "prisonsFinal = prisonsFinal.drop(columns=['FID', 'ZIP4', 'TELEPHONE', 'TYPE', 'STATUS', 'POPULATION', 'COUNTY', \n",
    "                   'COUNTYFIPS', 'COUNTRY', 'NAICS_CODE', 'NAICS_DESC', 'SOURCE', 'SOURCEDATE', \n",
    "                   'VAL_METHOD', 'VAL_DATE', 'WEBSITE', 'SECURELVL', 'CAPACITY', 'SHAPE_Leng', \n",
    "                   'GlobalID', 'CreationDate', 'Creator', 'EditDate', 'Editor', 'SHAPE_Length', 'SHAPE_Area'])\n"
   ]
  },
  {
   "cell_type": "code",
   "execution_count": null,
   "metadata": {},
   "outputs": [],
   "source": [
    "prisonsFinal = prisonsFinal.rename(columns={'geometry': 'prison_outline', 'buffered_square': 'geometry'})\n",
    "prisonsFinal = prisonsFinal.set_geometry('geometry')"
   ]
  },
  {
   "cell_type": "code",
   "execution_count": null,
   "metadata": {},
   "outputs": [],
   "source": [
    "prisonsFinal = prisonsFinal.drop(columns=['prison_outline'])\n",
    "prisonsFinal.to_file('allPrisonBuffers.geojson')"
   ]
  },
  {
   "cell_type": "code",
   "execution_count": null,
   "metadata": {},
   "outputs": [],
   "source": [
    "investigation_prisonsFinal = prisonsFinal[prisonsFinal['STATE'].isin(['MA', 'FL', 'CA', 'AZ', 'WA'])]"
   ]
  },
  {
   "cell_type": "code",
   "execution_count": null,
   "metadata": {},
   "outputs": [],
   "source": [
    "investigation_prisonsFinal.to_file('investigationPrisonBuffers.geojson')"
   ]
  }
 ],
 "metadata": {
  "kernelspec": {
   "display_name": "Python 3",
   "language": "python",
   "name": "python3"
  },
  "language_info": {
   "codemirror_mode": {
    "name": "ipython",
    "version": 3
   },
   "file_extension": ".py",
   "mimetype": "text/x-python",
   "name": "python",
   "nbconvert_exporter": "python",
   "pygments_lexer": "ipython3",
   "version": "3.9.6"
  }
 },
 "nbformat": 4,
 "nbformat_minor": 2
}
