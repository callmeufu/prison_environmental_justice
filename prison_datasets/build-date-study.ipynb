{
 "cells": [
  {
   "cell_type": "markdown",
   "metadata": {},
   "source": [
    "# Setup"
   ]
  },
  {
   "cell_type": "code",
   "execution_count": 137,
   "metadata": {},
   "outputs": [],
   "source": [
    "import pandas as pd"
   ]
  },
  {
   "cell_type": "code",
   "execution_count": 138,
   "metadata": {},
   "outputs": [],
   "source": [
    "prisons = pd.read_csv('../daymet_air_temp/Input/prisons_clean_03042024.csv')"
   ]
  },
  {
   "cell_type": "markdown",
   "metadata": {},
   "source": [
    "# Analysis"
   ]
  },
  {
   "cell_type": "code",
   "execution_count": 139,
   "metadata": {},
   "outputs": [
    {
     "data": {
      "text/plain": [
       "Index(['FACILITYID', 'NAME', 'ADDRESS', 'CITY', 'STATE', 'ZIP', 'ZIP4', 'TYPE',\n",
       "       'STATUS', 'POPULATION', 'COUNTY', 'COUNTRY', 'SECURELVL'],\n",
       "      dtype='object')"
      ]
     },
     "execution_count": 139,
     "metadata": {},
     "output_type": "execute_result"
    }
   ],
   "source": [
    "prisons.columns"
   ]
  },
  {
   "cell_type": "code",
   "execution_count": 140,
   "metadata": {},
   "outputs": [
    {
     "name": "stdout",
     "output_type": "stream",
     "text": [
      "The number of instances where Population < 1 (no data): 116 out of 1614\n"
     ]
    }
   ],
   "source": [
    "# Count the number of instances where the capacity is less than 1\n",
    "capacity_error = len(prisons[prisons['POPULATION'] < 1])\n",
    "\n",
    "total_rows = len(prisons)\n",
    "\n",
    "# Display the count\n",
    "print(f'The number of instances where Population < 1 (no data): {capacity_error} out of {total_rows}')"
   ]
  },
  {
   "cell_type": "code",
   "execution_count": 141,
   "metadata": {},
   "outputs": [],
   "source": [
    "sorted_prisons = prisons.sort_values(by=['STATE', 'POPULATION'], ascending=[True, False])"
   ]
  },
  {
   "cell_type": "code",
   "execution_count": 142,
   "metadata": {},
   "outputs": [],
   "source": [
    "prisons_filtered = prisons[prisons['STATE'] != 'DC']\n",
    "top_3_per_state = prisons_filtered.groupby('STATE').head(3)"
   ]
  },
  {
   "cell_type": "code",
   "execution_count": 143,
   "metadata": {},
   "outputs": [],
   "source": [
    "highpop_prisons = top_3_per_state.copy(deep=True)"
   ]
  },
  {
   "cell_type": "code",
   "execution_count": 144,
   "metadata": {},
   "outputs": [
    {
     "data": {
      "text/plain": [
       "(150, 13)"
      ]
     },
     "execution_count": 144,
     "metadata": {},
     "output_type": "execute_result"
    }
   ],
   "source": [
    "highpop_prisons.shape"
   ]
  },
  {
   "cell_type": "code",
   "execution_count": 145,
   "metadata": {},
   "outputs": [],
   "source": [
    "ac = pd.read_csv('../ac_datasets/ac_status.csv')"
   ]
  },
  {
   "cell_type": "code",
   "execution_count": 146,
   "metadata": {},
   "outputs": [
    {
     "data": {
      "text/html": [
       "<div>\n",
       "<style scoped>\n",
       "    .dataframe tbody tr th:only-of-type {\n",
       "        vertical-align: middle;\n",
       "    }\n",
       "\n",
       "    .dataframe tbody tr th {\n",
       "        vertical-align: top;\n",
       "    }\n",
       "\n",
       "    .dataframe thead th {\n",
       "        text-align: right;\n",
       "    }\n",
       "</style>\n",
       "<table border=\"1\" class=\"dataframe\">\n",
       "  <thead>\n",
       "    <tr style=\"text-align: right;\">\n",
       "      <th></th>\n",
       "      <th>facility_id</th>\n",
       "      <th>prison_name</th>\n",
       "      <th>state</th>\n",
       "      <th>ac_status</th>\n",
       "      <th>ac_status_details</th>\n",
       "      <th>address</th>\n",
       "      <th>building_completion_year</th>\n",
       "      <th>notes</th>\n",
       "    </tr>\n",
       "  </thead>\n",
       "  <tbody>\n",
       "    <tr>\n",
       "      <th>0</th>\n",
       "      <td>10002400</td>\n",
       "      <td>Bridgeport Correctional Center</td>\n",
       "      <td>CT</td>\n",
       "      <td>Yes</td>\n",
       "      <td>Partial</td>\n",
       "      <td>1106 North Avenue Bridgeport, CT 06604</td>\n",
       "      <td>1958</td>\n",
       "      <td>1958 listed as the open date, assume it is the...</td>\n",
       "    </tr>\n",
       "    <tr>\n",
       "      <th>1</th>\n",
       "      <td>10002399</td>\n",
       "      <td>Brooklyn Correctional Institution</td>\n",
       "      <td>CT</td>\n",
       "      <td>Yes</td>\n",
       "      <td>Full</td>\n",
       "      <td>59 Hartford Road Brooklyn, CT 06234</td>\n",
       "      <td>1820</td>\n",
       "      <td>Additions added in 1842, 1863, 1990</td>\n",
       "    </tr>\n",
       "    <tr>\n",
       "      <th>2</th>\n",
       "      <td>10000937</td>\n",
       "      <td>Cheshire Correctional Institution</td>\n",
       "      <td>CT</td>\n",
       "      <td>Yes</td>\n",
       "      <td>Full</td>\n",
       "      <td>900 Highland Avenue Cheshire, CT 06410</td>\n",
       "      <td>1913</td>\n",
       "      <td>Addition in 1956</td>\n",
       "    </tr>\n",
       "    <tr>\n",
       "      <th>3</th>\n",
       "      <td>10000931</td>\n",
       "      <td>Corrigan Correctional Center</td>\n",
       "      <td>CT</td>\n",
       "      <td>Yes</td>\n",
       "      <td>Full</td>\n",
       "      <td>986 Norwich-New London Turnpike Uncasville, CT...</td>\n",
       "      <td>1957</td>\n",
       "      <td>Merged with buildings opened in 1994, 1991</td>\n",
       "    </tr>\n",
       "    <tr>\n",
       "      <th>4</th>\n",
       "      <td>10006149</td>\n",
       "      <td>Cybulski Community Reintegration Center</td>\n",
       "      <td>CT</td>\n",
       "      <td>Yes</td>\n",
       "      <td>Full</td>\n",
       "      <td>264 Bilton Road Somers, CT 06071</td>\n",
       "      <td>1990</td>\n",
       "      <td>Merged with a building opened in 1993</td>\n",
       "    </tr>\n",
       "  </tbody>\n",
       "</table>\n",
       "</div>"
      ],
      "text/plain": [
       "  facility_id                              prison_name state ac_status  \\\n",
       "0    10002400           Bridgeport Correctional Center    CT       Yes   \n",
       "1    10002399        Brooklyn Correctional Institution    CT       Yes   \n",
       "2    10000937        Cheshire Correctional Institution    CT       Yes   \n",
       "3    10000931             Corrigan Correctional Center    CT       Yes   \n",
       "4    10006149  Cybulski Community Reintegration Center    CT       Yes   \n",
       "\n",
       "  ac_status_details                                            address  \\\n",
       "0           Partial             1106 North Avenue Bridgeport, CT 06604   \n",
       "1              Full                59 Hartford Road Brooklyn, CT 06234   \n",
       "2              Full             900 Highland Avenue Cheshire, CT 06410   \n",
       "3              Full  986 Norwich-New London Turnpike Uncasville, CT...   \n",
       "4              Full                   264 Bilton Road Somers, CT 06071   \n",
       "\n",
       "  building_completion_year                                              notes  \n",
       "0                     1958  1958 listed as the open date, assume it is the...  \n",
       "1                     1820                Additions added in 1842, 1863, 1990  \n",
       "2                     1913                                   Addition in 1956  \n",
       "3                     1957         Merged with buildings opened in 1994, 1991  \n",
       "4                     1990              Merged with a building opened in 1993  "
      ]
     },
     "execution_count": 146,
     "metadata": {},
     "output_type": "execute_result"
    }
   ],
   "source": [
    "ac.head()"
   ]
  },
  {
   "cell_type": "code",
   "execution_count": 147,
   "metadata": {},
   "outputs": [],
   "source": [
    "highpop_prisons['FACILITYID'] = highpop_prisons['FACILITYID'].astype(str)\n",
    "ac['facility_id'] = ac['facility_id'].astype(str)\n"
   ]
  },
  {
   "cell_type": "code",
   "execution_count": 148,
   "metadata": {},
   "outputs": [],
   "source": [
    "duplicates_in_ac = ac[ac.duplicated(subset='facility_id', keep=False)]\n",
    "duplicates_in_highpop_prisons = highpop_prisons[highpop_prisons.duplicated(subset='FACILITYID', keep=False)]"
   ]
  },
  {
   "cell_type": "code",
   "execution_count": 149,
   "metadata": {},
   "outputs": [
    {
     "data": {
      "text/html": [
       "<div>\n",
       "<style scoped>\n",
       "    .dataframe tbody tr th:only-of-type {\n",
       "        vertical-align: middle;\n",
       "    }\n",
       "\n",
       "    .dataframe tbody tr th {\n",
       "        vertical-align: top;\n",
       "    }\n",
       "\n",
       "    .dataframe thead th {\n",
       "        text-align: right;\n",
       "    }\n",
       "</style>\n",
       "<table border=\"1\" class=\"dataframe\">\n",
       "  <thead>\n",
       "    <tr style=\"text-align: right;\">\n",
       "      <th></th>\n",
       "      <th>facility_id</th>\n",
       "      <th>prison_name</th>\n",
       "      <th>state</th>\n",
       "      <th>ac_status</th>\n",
       "      <th>ac_status_details</th>\n",
       "      <th>address</th>\n",
       "      <th>building_completion_year</th>\n",
       "      <th>notes</th>\n",
       "    </tr>\n",
       "  </thead>\n",
       "  <tbody>\n",
       "    <tr>\n",
       "      <th>22</th>\n",
       "      <td>10000298</td>\n",
       "      <td>GA Diagnostic Class Prison</td>\n",
       "      <td>GA</td>\n",
       "      <td>Yes</td>\n",
       "      <td>Partial</td>\n",
       "      <td>2978 Hwy 36 West Prison Blvd, Jackson, GA 30233</td>\n",
       "      <td>1968</td>\n",
       "      <td>NaN</td>\n",
       "    </tr>\n",
       "    <tr>\n",
       "      <th>23</th>\n",
       "      <td>10000298</td>\n",
       "      <td>Hancock State Prison</td>\n",
       "      <td>GA</td>\n",
       "      <td>Yes</td>\n",
       "      <td>Partial</td>\n",
       "      <td>701 Prison Blvd, Sparta, GA 31087</td>\n",
       "      <td>1990</td>\n",
       "      <td>NaN</td>\n",
       "    </tr>\n",
       "    <tr>\n",
       "      <th>313</th>\n",
       "      <td>nan</td>\n",
       "      <td>Beaumont Correctional Center</td>\n",
       "      <td>VA</td>\n",
       "      <td>Yes</td>\n",
       "      <td>Full</td>\n",
       "      <td>3500 Beaumont Rd., Beaumont, VA 23014</td>\n",
       "      <td>not provided</td>\n",
       "      <td>NaN</td>\n",
       "    </tr>\n",
       "    <tr>\n",
       "      <th>315</th>\n",
       "      <td>10001597</td>\n",
       "      <td>Brunswick CCAP</td>\n",
       "      <td>VA</td>\n",
       "      <td>Yes</td>\n",
       "      <td>Full</td>\n",
       "      <td>1147 PLANTERS RD, LAWRENCEVILLE, VA 23868</td>\n",
       "      <td>not provided</td>\n",
       "      <td>facility not on website but provided to us in ...</td>\n",
       "    </tr>\n",
       "    <tr>\n",
       "      <th>335</th>\n",
       "      <td>10001597</td>\n",
       "      <td>Lawrenceville Correctional Center</td>\n",
       "      <td>VA</td>\n",
       "      <td>No</td>\n",
       "      <td>NaN</td>\n",
       "      <td>1607 Planters Road, Lawrenceville, VA 23868</td>\n",
       "      <td>not provided</td>\n",
       "      <td>NaN</td>\n",
       "    </tr>\n",
       "    <tr>\n",
       "      <th>346</th>\n",
       "      <td>nan</td>\n",
       "      <td>State Farm Enterprise Unit</td>\n",
       "      <td>VA</td>\n",
       "      <td>No</td>\n",
       "      <td>NaN</td>\n",
       "      <td>3600 Woods Way, State Farm, VA 23160</td>\n",
       "      <td>not provided</td>\n",
       "      <td>NaN</td>\n",
       "    </tr>\n",
       "    <tr>\n",
       "      <th>347</th>\n",
       "      <td>nan</td>\n",
       "      <td>State Farm Work Center</td>\n",
       "      <td>VA</td>\n",
       "      <td>No</td>\n",
       "      <td>NaN</td>\n",
       "      <td>1954 State Farm Road, State Farm, VA 23160</td>\n",
       "      <td>not provided</td>\n",
       "      <td>NaN</td>\n",
       "    </tr>\n",
       "    <tr>\n",
       "      <th>371</th>\n",
       "      <td>10000053</td>\n",
       "      <td>Wyoming Medium Correctional Institution (WMCI)</td>\n",
       "      <td>WY</td>\n",
       "      <td>Yes</td>\n",
       "      <td>Full</td>\n",
       "      <td>7076 Road 55F Torrington, WY 82240</td>\n",
       "      <td>2009</td>\n",
       "      <td>For the Admin, Programing &amp; Housing Building</td>\n",
       "    </tr>\n",
       "    <tr>\n",
       "      <th>374</th>\n",
       "      <td>10000053</td>\n",
       "      <td>WHCC Wyoming Honor Conservation Camp</td>\n",
       "      <td>WY</td>\n",
       "      <td>Yes</td>\n",
       "      <td>Full</td>\n",
       "      <td>40 Pippin Road Newcastle, WY 82701</td>\n",
       "      <td>1999</td>\n",
       "      <td>Boot Camp Building (Barracks) was built in 200...</td>\n",
       "    </tr>\n",
       "  </tbody>\n",
       "</table>\n",
       "</div>"
      ],
      "text/plain": [
       "    facility_id                                      prison_name state  \\\n",
       "22     10000298                       GA Diagnostic Class Prison    GA   \n",
       "23     10000298                             Hancock State Prison    GA   \n",
       "313         nan                     Beaumont Correctional Center    VA   \n",
       "315    10001597                                   Brunswick CCAP    VA   \n",
       "335    10001597                Lawrenceville Correctional Center    VA   \n",
       "346         nan                       State Farm Enterprise Unit    VA   \n",
       "347         nan                           State Farm Work Center    VA   \n",
       "371    10000053  Wyoming Medium Correctional Institution (WMCI)     WY   \n",
       "374    10000053             WHCC Wyoming Honor Conservation Camp    WY   \n",
       "\n",
       "    ac_status ac_status_details  \\\n",
       "22        Yes           Partial   \n",
       "23        Yes           Partial   \n",
       "313       Yes              Full   \n",
       "315       Yes              Full   \n",
       "335        No               NaN   \n",
       "346        No               NaN   \n",
       "347        No               NaN   \n",
       "371       Yes              Full   \n",
       "374       Yes              Full   \n",
       "\n",
       "                                             address building_completion_year  \\\n",
       "22   2978 Hwy 36 West Prison Blvd, Jackson, GA 30233                     1968   \n",
       "23                 701 Prison Blvd, Sparta, GA 31087                     1990   \n",
       "313            3500 Beaumont Rd., Beaumont, VA 23014             not provided   \n",
       "315        1147 PLANTERS RD, LAWRENCEVILLE, VA 23868             not provided   \n",
       "335      1607 Planters Road, Lawrenceville, VA 23868             not provided   \n",
       "346             3600 Woods Way, State Farm, VA 23160             not provided   \n",
       "347       1954 State Farm Road, State Farm, VA 23160             not provided   \n",
       "371               7076 Road 55F Torrington, WY 82240                     2009   \n",
       "374               40 Pippin Road Newcastle, WY 82701                     1999   \n",
       "\n",
       "                                                 notes  \n",
       "22                                                 NaN  \n",
       "23                                                 NaN  \n",
       "313                                                NaN  \n",
       "315  facility not on website but provided to us in ...  \n",
       "335                                                NaN  \n",
       "346                                                NaN  \n",
       "347                                                NaN  \n",
       "371       For the Admin, Programing & Housing Building  \n",
       "374  Boot Camp Building (Barracks) was built in 200...  "
      ]
     },
     "execution_count": 149,
     "metadata": {},
     "output_type": "execute_result"
    }
   ],
   "source": [
    "duplicates_in_ac"
   ]
  },
  {
   "cell_type": "code",
   "execution_count": 150,
   "metadata": {},
   "outputs": [],
   "source": [
    "prison_builds = pd.merge(highpop_prisons, ac, left_on='FACILITYID', right_on='facility_id', how='left')\n",
    "\n",
    "prison_builds.fillna('N/A', inplace=True)"
   ]
  },
  {
   "cell_type": "code",
   "execution_count": 151,
   "metadata": {},
   "outputs": [
    {
     "data": {
      "text/plain": [
       "(151, 21)"
      ]
     },
     "execution_count": 151,
     "metadata": {},
     "output_type": "execute_result"
    }
   ],
   "source": [
    "prison_builds.shape"
   ]
  },
  {
   "cell_type": "code",
   "execution_count": 152,
   "metadata": {},
   "outputs": [],
   "source": [
    "def extract_first_year(year_span):\n",
    "    if '-' in year_span:\n",
    "        return year_span.split('-')[0]\n",
    "    return year_span"
   ]
  },
  {
   "cell_type": "code",
   "execution_count": 153,
   "metadata": {},
   "outputs": [],
   "source": [
    "prison_builds['building_completion_year'] = prison_builds['building_completion_year'].apply(extract_first_year)"
   ]
  },
  {
   "cell_type": "code",
   "execution_count": 154,
   "metadata": {},
   "outputs": [
    {
     "data": {
      "text/plain": [
       "(151, 21)"
      ]
     },
     "execution_count": 154,
     "metadata": {},
     "output_type": "execute_result"
    }
   ],
   "source": [
    "prison_builds.shape"
   ]
  },
  {
   "cell_type": "code",
   "execution_count": 157,
   "metadata": {},
   "outputs": [],
   "source": [
    "prison_builds = prison_builds.sort_values(by='state')"
   ]
  },
  {
   "cell_type": "code",
   "execution_count": 158,
   "metadata": {},
   "outputs": [],
   "source": [
    "prison_builds.to_csv('prison_builds_study.csv')"
   ]
  }
 ],
 "metadata": {
  "kernelspec": {
   "display_name": "Python 3",
   "language": "python",
   "name": "python3"
  },
  "language_info": {
   "codemirror_mode": {
    "name": "ipython",
    "version": 3
   },
   "file_extension": ".py",
   "mimetype": "text/x-python",
   "name": "python",
   "nbconvert_exporter": "python",
   "pygments_lexer": "ipython3",
   "version": "3.9.6"
  }
 },
 "nbformat": 4,
 "nbformat_minor": 2
}
