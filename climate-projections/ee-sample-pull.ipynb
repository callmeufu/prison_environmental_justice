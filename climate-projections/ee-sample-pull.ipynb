{
 "cells": [
  {
   "cell_type": "markdown",
   "metadata": {},
   "source": [
    "# Setup\n"
   ]
  },
  {
   "cell_type": "code",
   "execution_count": null,
   "metadata": {},
   "outputs": [],
   "source": [
    "import ee\n",
    "ee.Authenticate(force=True)\n",
    "ee.Initialize(project='ee-mrk2152')\n",
    "import pandas as pd\n",
    "import altair as alt\n",
    "import numpy as np"
   ]
  },
  {
   "cell_type": "markdown",
   "metadata": {},
   "source": [
    "# Code"
   ]
  },
  {
   "cell_type": "code",
   "execution_count": null,
   "metadata": {},
   "outputs": [],
   "source": [
    "def create_reduce_region_function(geometry,\n",
    "                                  reducer=ee.Reducer.mean(),\n",
    "                                  scale=1000,\n",
    "                                  crs='EPSG:4326',\n",
    "                                  bestEffort=True,\n",
    "                                  maxPixels=1e13,\n",
    "                                  tileScale=4):\n",
    "\n",
    "\n",
    "  def reduce_region_function(img):\n",
    "\n",
    "    stat = img.reduceRegion(\n",
    "        reducer=reducer,\n",
    "        geometry=geometry,\n",
    "        scale=scale,\n",
    "        crs=crs,\n",
    "        bestEffort=bestEffort,\n",
    "        maxPixels=maxPixels,\n",
    "        tileScale=tileScale)\n",
    "\n",
    "    return ee.Feature(geometry, stat).set({'millis': img.date().millis()})\n",
    "  return reduce_region_function\n",
    "\n",
    "def fc_to_dict(fc):\n",
    "  prop_names = fc.first().propertyNames()\n",
    "  prop_lists = fc.reduceColumns(\n",
    "      reducer=ee.Reducer.toList().repeat(prop_names.size()),\n",
    "      selectors=prop_names).get('list')\n",
    "\n",
    "  return ee.Dictionary.fromLists(prop_names, prop_lists)\n",
    "\n",
    "def add_date_info(df):\n",
    "  df['Timestamp'] = pd.to_datetime(df['millis'], unit='ms')\n",
    "  df['Year'] = pd.DatetimeIndex(df['Timestamp']).year\n",
    "  df['Month'] = pd.DatetimeIndex(df['Timestamp']).month\n",
    "  df['Day'] = pd.DatetimeIndex(df['Timestamp']).day\n",
    "  df['DOY'] = pd.DatetimeIndex(df['Timestamp']).dayofyear\n",
    "  return df\n",
    "\n",
    "def filter_summer_months(df):\n",
    "    return df[df['Month'].isin([6, 7, 8])]"
   ]
  },
  {
   "cell_type": "code",
   "execution_count": null,
   "metadata": {},
   "outputs": [],
   "source": [
    "dcp_col = (ee.ImageCollection('NASA/NEX-DCP30_ENSEMBLE_STATS')\n",
    "           .select(['tasmax_median', 'tasmin_median'])\n",
    "           .filter(\n",
    "               ee.Filter.And(ee.Filter.eq('scenario', 'rcp45'),\n",
    "                             ee.Filter.date('2024-01-01', '2074-12-31'))))\n",
    "\n",
    "def calc_mean_temp(img):\n",
    "    return (img.select('tasmax_median')\n",
    "            .add(img.select('tasmin_median'))\n",
    "            .divide(ee.Image.constant(2.0))\n",
    "            .rename(['Temp-mean'])\n",
    "            .copyProperties(img, img.propertyNames()))\n",
    "\n",
    "dcp_col = dcp_col.map(calc_mean_temp)\n",
    "\n",
    "latitude = 36.144691\n",
    "longitude = -114.417733\n",
    "point = ee.Geometry.Point([longitude, latitude])\n",
    "\n",
    "reduce_dcp30 = create_reduce_region_function(\n",
    "    geometry=point, reducer=ee.Reducer.first(), scale=1000, crs='EPSG:4326')\n",
    "\n",
    "dcp_stat_fc = ee.FeatureCollection(dcp_col.map(reduce_dcp30)).filter(\n",
    "    ee.Filter.notNull(dcp_col.first().bandNames()))\n",
    "\n",
    "dcp_dict = fc_to_dict(dcp_stat_fc).getInfo()\n",
    "dcp_df = pd.DataFrame(dcp_dict)\n",
    "\n",
    "dcp_df = add_date_info(dcp_df)\n",
    "\n",
    "dcp_df['Temp-mean'] = dcp_df['Temp-mean'] - 273.15\n",
    "dcp_df['Model'] = 'NEX-DCP30'\n",
    "\n",
    "prism_col = (ee.ImageCollection('OREGONSTATE/PRISM/AN81m')\n",
    "             .select(['tmean'])\n",
    "             .filter(ee.Filter.date('1973-01-01', '2023-12-31')))\n",
    "\n",
    "reduce_prism = create_reduce_region_function(\n",
    "    geometry=point, reducer=ee.Reducer.first(), scale=1000, crs='EPSG:4326')\n",
    "\n",
    "prism_stat_fc = (ee.FeatureCollection(prism_col.map(reduce_prism))\n",
    "                 .filter(ee.Filter.notNull(prism_col.first().bandNames())))\n",
    "\n",
    "prism_dict = fc_to_dict(prism_stat_fc).getInfo()\n",
    "prism_df = pd.DataFrame(prism_dict)\n",
    "\n",
    "prism_df = add_date_info(prism_df)\n",
    "prism_df['Model'] = 'PRISM'\n",
    "prism_df = prism_df.rename(columns={'tmean': 'Temp-mean'})\n",
    "\n",
    "climate_df = pd.concat([prism_df, dcp_df], sort=True)\n",
    "\n",
    "climate_df['Temp-mean'] = (climate_df['Temp-mean']*(9/5)) + 32\n",
    "\n",
    "climate_df = filter_summer_months(climate_df)\n",
    "\n",
    "climate_df = climate_df.drop(['DOY','Day','Month','millis'],axis=1)\n",
    "\n",
    "summer_mean_df = climate_df.groupby(['Year']).mean(['Temp-mean']).reset_index()"
   ]
  },
  {
   "cell_type": "code",
   "execution_count": null,
   "metadata": {},
   "outputs": [],
   "source": [
    "summer_mean_df.head(10)"
   ]
  },
  {
   "cell_type": "code",
   "execution_count": null,
   "metadata": {},
   "outputs": [],
   "source": [
    "line = alt.Chart(climate_df).mark_line().encode(\n",
    "    x='Year:O',\n",
    "    y='median(Temp-mean):Q',\n",
    "    color='Model')\n",
    "\n",
    "band = alt.Chart(climate_df).mark_errorband(extent='iqr').encode(\n",
    "    x='Year:O',\n",
    "    y=alt.Y('Temp-mean:Q', title='Temperature (°F)'), color='Model')\n",
    "\n",
    "(band + line).properties(width=900, height=300)"
   ]
  }
 ],
 "metadata": {
  "language_info": {
   "name": "python"
  }
 },
 "nbformat": 4,
 "nbformat_minor": 2
}
